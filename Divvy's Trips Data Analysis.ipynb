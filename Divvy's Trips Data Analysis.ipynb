{
 "cells": [
  {
   "cell_type": "markdown",
   "id": "bd84d220",
   "metadata": {},
   "source": [
    "# Executive Summary \n",
    "\n",
    "In 2016, Cyclistic launched a successful bike-share offering. Since then, the program has grown to a fleet of 5,824 bicycles that are geotracked and locked into a network of 692 stations across Chicago. The bikes can be unlocked from one station and returned to any other station in the system anytime. Cyclistics have set a clear goal: Design marketing strategies aimed at converting casual riders into annual members. Since Cyclistic’s finance analysts have concluded that annual members are much more profitable than casual riders. In order to do that, the marketing analyst team need to extract user patterns from the historical bike trip data to assist the decision maker come up with the data-driven strategies.\n"
   ]
  },
  {
   "cell_type": "markdown",
   "id": "0a03a868",
   "metadata": {},
   "source": [
    "## Dataset\n",
    "\n",
    "The historical trip data covered the previous 12 months of Cyclistic trip data (202106-202205)"
   ]
  },
  {
   "cell_type": "markdown",
   "id": "aa49a29a",
   "metadata": {},
   "source": [
    "## Objective\n",
    "\n",
    "To design marketing strategies aimed at converting casual riders to annual riders  "
   ]
  },
  {
   "cell_type": "code",
   "execution_count": 6,
   "id": "0c99b9ff",
   "metadata": {},
   "outputs": [
    {
     "data": {
      "text/plain": [
       "'C:\\\\Users\\\\tony3\\\\Projects\\\\Case Study - bike sharing'"
      ]
     },
     "execution_count": 6,
     "metadata": {},
     "output_type": "execute_result"
    }
   ],
   "source": [
    "# get directory of files\n",
    "\n",
    "import os \n",
    "dir_path = os.path.dirname(os.path.realpath('202107-divvy-tripdata.csv'))\n",
    "cwd = os.getcwd()\n",
    "cwd"
   ]
  },
  {
   "cell_type": "markdown",
   "id": "fd1b3498",
   "metadata": {},
   "source": [
    "# Explore the data"
   ]
  },
  {
   "cell_type": "code",
   "execution_count": 7,
   "id": "9a4ed2fb",
   "metadata": {},
   "outputs": [],
   "source": [
    "# import exploratory files\n",
    "\n",
    "import pandas as pd \n",
    "import numpy as np \n",
    "import matplotlib.pyplot as plt \n",
    "import seaborn as sns\n",
    "\n",
    "# read csv files \n",
    "\n",
    "bike_data1 = pd.read_csv('C:/Users/tony3/Projects/Case Study - bike sharing/202106-divvy-tripdata.csv')\n",
    "bike_data2 = pd.read_csv('C:/Users/tony3/Projects/Case Study - bike sharing/202107-divvy-tripdata.csv')\n",
    "bike_data3 = pd.read_csv('C:/Users/tony3/Projects/Case Study - bike sharing/202108-divvy-tripdata.csv')\n",
    "bike_data4 = pd.read_csv('C:/Users/tony3/Projects/Case Study - bike sharing/202109-divvy-tripdata.csv')\n",
    "bike_data5 = pd.read_csv('C:/Users/tony3/Projects/Case Study - bike sharing/202110-divvy-tripdata.csv')\n",
    "bike_data6 = pd.read_csv('C:/Users/tony3/Projects/Case Study - bike sharing/202111-divvy-tripdata.csv')\n",
    "bike_data7 = pd.read_csv('C:/Users/tony3/Projects/Case Study - bike sharing/202112-divvy-tripdata.csv')\n",
    "bike_data8 = pd.read_csv('C:/Users/tony3/Projects/Case Study - bike sharing/202201-divvy-tripdata.csv')\n",
    "bike_data9 = pd.read_csv('C:/Users/tony3/Projects/Case Study - bike sharing/202202-divvy-tripdata.csv')\n",
    "bike_data10 = pd.read_csv('C:/Users/tony3/Projects/Case Study - bike sharing/202203-divvy-tripdata.csv')\n",
    "bike_data11 = pd.read_csv('C:/Users/tony3/Projects/Case Study - bike sharing/202204-divvy-tripdata.csv')\n",
    "bike_data12 = pd.read_csv('C:/Users/tony3/Projects/Case Study - bike sharing/202205-divvy-tripdata.csv')\n",
    "\n",
    "# merge the datasets into one single dataset \n",
    "\n",
    "bike_data_all = [bike_data1, bike_data2, bike_data3, bike_data4, bike_data5, bike_data6, bike_data7, bike_data8, bike_data9, bike_data10, bike_data11, bike_data12]\n",
    "df = pd.concat(bike_data_all)\n"
   ]
  },
  {
   "cell_type": "code",
   "execution_count": 8,
   "id": "523b6503",
   "metadata": {
    "scrolled": true
   },
   "outputs": [
    {
     "data": {
      "text/html": [
       "<div>\n",
       "<style scoped>\n",
       "    .dataframe tbody tr th:only-of-type {\n",
       "        vertical-align: middle;\n",
       "    }\n",
       "\n",
       "    .dataframe tbody tr th {\n",
       "        vertical-align: top;\n",
       "    }\n",
       "\n",
       "    .dataframe thead th {\n",
       "        text-align: right;\n",
       "    }\n",
       "</style>\n",
       "<table border=\"1\" class=\"dataframe\">\n",
       "  <thead>\n",
       "    <tr style=\"text-align: right;\">\n",
       "      <th></th>\n",
       "      <th>ride_id</th>\n",
       "      <th>rideable_type</th>\n",
       "      <th>started_at</th>\n",
       "      <th>ended_at</th>\n",
       "      <th>start_station_name</th>\n",
       "      <th>start_station_id</th>\n",
       "      <th>end_station_name</th>\n",
       "      <th>end_station_id</th>\n",
       "      <th>start_lat</th>\n",
       "      <th>start_lng</th>\n",
       "      <th>end_lat</th>\n",
       "      <th>end_lng</th>\n",
       "      <th>member_casual</th>\n",
       "    </tr>\n",
       "  </thead>\n",
       "  <tbody>\n",
       "    <tr>\n",
       "      <th>0</th>\n",
       "      <td>99FEC93BA843FB20</td>\n",
       "      <td>electric_bike</td>\n",
       "      <td>2021-06-13 14:31:28</td>\n",
       "      <td>2021-06-13 14:34:11</td>\n",
       "      <td>NaN</td>\n",
       "      <td>NaN</td>\n",
       "      <td>NaN</td>\n",
       "      <td>NaN</td>\n",
       "      <td>41.80</td>\n",
       "      <td>-87.59</td>\n",
       "      <td>41.80</td>\n",
       "      <td>-87.60</td>\n",
       "      <td>member</td>\n",
       "    </tr>\n",
       "    <tr>\n",
       "      <th>1</th>\n",
       "      <td>06048DCFC8520CAF</td>\n",
       "      <td>electric_bike</td>\n",
       "      <td>2021-06-04 11:18:02</td>\n",
       "      <td>2021-06-04 11:24:19</td>\n",
       "      <td>NaN</td>\n",
       "      <td>NaN</td>\n",
       "      <td>NaN</td>\n",
       "      <td>NaN</td>\n",
       "      <td>41.79</td>\n",
       "      <td>-87.59</td>\n",
       "      <td>41.80</td>\n",
       "      <td>-87.60</td>\n",
       "      <td>member</td>\n",
       "    </tr>\n",
       "    <tr>\n",
       "      <th>2</th>\n",
       "      <td>9598066F68045DF2</td>\n",
       "      <td>electric_bike</td>\n",
       "      <td>2021-06-04 09:49:35</td>\n",
       "      <td>2021-06-04 09:55:34</td>\n",
       "      <td>NaN</td>\n",
       "      <td>NaN</td>\n",
       "      <td>NaN</td>\n",
       "      <td>NaN</td>\n",
       "      <td>41.80</td>\n",
       "      <td>-87.60</td>\n",
       "      <td>41.79</td>\n",
       "      <td>-87.59</td>\n",
       "      <td>member</td>\n",
       "    </tr>\n",
       "    <tr>\n",
       "      <th>3</th>\n",
       "      <td>B03C0FE48C412214</td>\n",
       "      <td>electric_bike</td>\n",
       "      <td>2021-06-03 19:56:05</td>\n",
       "      <td>2021-06-03 20:21:55</td>\n",
       "      <td>NaN</td>\n",
       "      <td>NaN</td>\n",
       "      <td>NaN</td>\n",
       "      <td>NaN</td>\n",
       "      <td>41.78</td>\n",
       "      <td>-87.58</td>\n",
       "      <td>41.80</td>\n",
       "      <td>-87.60</td>\n",
       "      <td>member</td>\n",
       "    </tr>\n",
       "    <tr>\n",
       "      <th>4</th>\n",
       "      <td>B9EEA89F8FEE73B7</td>\n",
       "      <td>electric_bike</td>\n",
       "      <td>2021-06-04 14:05:51</td>\n",
       "      <td>2021-06-04 14:09:59</td>\n",
       "      <td>NaN</td>\n",
       "      <td>NaN</td>\n",
       "      <td>NaN</td>\n",
       "      <td>NaN</td>\n",
       "      <td>41.80</td>\n",
       "      <td>-87.59</td>\n",
       "      <td>41.79</td>\n",
       "      <td>-87.59</td>\n",
       "      <td>member</td>\n",
       "    </tr>\n",
       "  </tbody>\n",
       "</table>\n",
       "</div>"
      ],
      "text/plain": [
       "            ride_id  rideable_type           started_at             ended_at  \\\n",
       "0  99FEC93BA843FB20  electric_bike  2021-06-13 14:31:28  2021-06-13 14:34:11   \n",
       "1  06048DCFC8520CAF  electric_bike  2021-06-04 11:18:02  2021-06-04 11:24:19   \n",
       "2  9598066F68045DF2  electric_bike  2021-06-04 09:49:35  2021-06-04 09:55:34   \n",
       "3  B03C0FE48C412214  electric_bike  2021-06-03 19:56:05  2021-06-03 20:21:55   \n",
       "4  B9EEA89F8FEE73B7  electric_bike  2021-06-04 14:05:51  2021-06-04 14:09:59   \n",
       "\n",
       "  start_station_name start_station_id end_station_name end_station_id  \\\n",
       "0                NaN              NaN              NaN            NaN   \n",
       "1                NaN              NaN              NaN            NaN   \n",
       "2                NaN              NaN              NaN            NaN   \n",
       "3                NaN              NaN              NaN            NaN   \n",
       "4                NaN              NaN              NaN            NaN   \n",
       "\n",
       "   start_lat  start_lng  end_lat  end_lng member_casual  \n",
       "0      41.80     -87.59    41.80   -87.60        member  \n",
       "1      41.79     -87.59    41.80   -87.60        member  \n",
       "2      41.80     -87.60    41.79   -87.59        member  \n",
       "3      41.78     -87.58    41.80   -87.60        member  \n",
       "4      41.80     -87.59    41.79   -87.59        member  "
      ]
     },
     "execution_count": 8,
     "metadata": {},
     "output_type": "execute_result"
    }
   ],
   "source": [
    "# information we can get from dataset \n",
    "\n",
    "df.head()"
   ]
  },
  {
   "cell_type": "code",
   "execution_count": 9,
   "id": "888c5e91",
   "metadata": {},
   "outputs": [
    {
     "name": "stdout",
     "output_type": "stream",
     "text": [
      "<class 'pandas.core.frame.DataFrame'>\n",
      "Int64Index: 5860776 entries, 0 to 634857\n",
      "Data columns (total 13 columns):\n",
      " #   Column              Dtype  \n",
      "---  ------              -----  \n",
      " 0   ride_id             object \n",
      " 1   rideable_type       object \n",
      " 2   started_at          object \n",
      " 3   ended_at            object \n",
      " 4   start_station_name  object \n",
      " 5   start_station_id    object \n",
      " 6   end_station_name    object \n",
      " 7   end_station_id      object \n",
      " 8   start_lat           float64\n",
      " 9   start_lng           float64\n",
      " 10  end_lat             float64\n",
      " 11  end_lng             float64\n",
      " 12  member_casual       object \n",
      "dtypes: float64(4), object(9)\n",
      "memory usage: 626.0+ MB\n"
     ]
    }
   ],
   "source": [
    "# information about data types\n",
    "\n",
    "df.info()"
   ]
  },
  {
   "cell_type": "code",
   "execution_count": 10,
   "id": "76a0b7b9",
   "metadata": {},
   "outputs": [
    {
     "data": {
      "text/plain": [
       "ride_id               5860776\n",
       "rideable_type               3\n",
       "started_at            4896834\n",
       "ended_at              4893478\n",
       "start_station_name       1105\n",
       "start_station_id         1063\n",
       "end_station_name         1112\n",
       "end_station_id           1068\n",
       "start_lat              468846\n",
       "start_lng              447530\n",
       "end_lat                402338\n",
       "end_lng                368930\n",
       "member_casual               2\n",
       "dtype: int64"
      ]
     },
     "execution_count": 10,
     "metadata": {},
     "output_type": "execute_result"
    }
   ],
   "source": [
    "# number of unique values in each columns \n",
    "df.nunique()"
   ]
  },
  {
   "cell_type": "code",
   "execution_count": 11,
   "id": "8da76f53",
   "metadata": {},
   "outputs": [
    {
     "data": {
      "text/plain": [
       "ride_id                    0\n",
       "rideable_type              0\n",
       "started_at                 0\n",
       "ended_at                   0\n",
       "start_station_name    823167\n",
       "start_station_id      823164\n",
       "end_station_name      878338\n",
       "end_station_id        878338\n",
       "start_lat                  0\n",
       "start_lng                  0\n",
       "end_lat                 5036\n",
       "end_lng                 5036\n",
       "member_casual              0\n",
       "dtype: int64"
      ]
     },
     "execution_count": 11,
     "metadata": {},
     "output_type": "execute_result"
    }
   ],
   "source": [
    "# checking the missing values \n",
    "df.isnull().sum()"
   ]
  },
  {
   "cell_type": "code",
   "execution_count": 12,
   "id": "a96e2989",
   "metadata": {},
   "outputs": [
    {
     "data": {
      "text/plain": [
       "ride_id               0.000000\n",
       "rideable_type         0.000000\n",
       "started_at            0.000000\n",
       "ended_at              0.000000\n",
       "start_station_name    0.140454\n",
       "start_station_id      0.140453\n",
       "end_station_name      0.149867\n",
       "end_station_id        0.149867\n",
       "start_lat             0.000000\n",
       "start_lng             0.000000\n",
       "end_lat               0.000859\n",
       "end_lng               0.000859\n",
       "member_casual         0.000000\n",
       "dtype: float64"
      ]
     },
     "execution_count": 12,
     "metadata": {},
     "output_type": "execute_result"
    }
   ],
   "source": [
    "# showing for each column the percentage of null values\n",
    "df.isnull().sum() / df.shape[0]"
   ]
  },
  {
   "cell_type": "code",
   "execution_count": 13,
   "id": "5cae1fae",
   "metadata": {},
   "outputs": [
    {
     "data": {
      "text/plain": [
       "(5860776, 13)"
      ]
     },
     "execution_count": 13,
     "metadata": {},
     "output_type": "execute_result"
    }
   ],
   "source": [
    "# checking the shape of data\n",
    "df.shape"
   ]
  },
  {
   "cell_type": "markdown",
   "id": "a721bbf9",
   "metadata": {},
   "source": [
    "# Clean the data \n",
    "\n",
    "1. Remove the unwanted columns start_lat, start_lng, end_lat, end_lng, start_station_id, end_station_id, ride_id they are irrelevant to the analysis.\n",
    "\n",
    "2. Change the column name rideable_type to bike_type, member_casual to customer_type\n",
    " \n",
    "3. change the data type started_at and ended_at column to datetime \n",
    "\n",
    "4. fill missing start_station_name and end_station_name with 'unknown'\n",
    "\n",
    "5. increase column name ride_length (mins) \n",
    "\n",
    "6. drop the data when ride_length < 0 , since it might cause by the system flaw. Those data points might skew our analysis\n",
    "\n",
    "7. drop the data when ride_length < 1 , since it might not be the real renting situation, the user might change their mind and return the bike right after they rent it"
   ]
  },
  {
   "cell_type": "code",
   "execution_count": 14,
   "id": "f1ea9b2a",
   "metadata": {},
   "outputs": [
    {
     "data": {
      "text/html": [
       "<div>\n",
       "<style scoped>\n",
       "    .dataframe tbody tr th:only-of-type {\n",
       "        vertical-align: middle;\n",
       "    }\n",
       "\n",
       "    .dataframe tbody tr th {\n",
       "        vertical-align: top;\n",
       "    }\n",
       "\n",
       "    .dataframe thead th {\n",
       "        text-align: right;\n",
       "    }\n",
       "</style>\n",
       "<table border=\"1\" class=\"dataframe\">\n",
       "  <thead>\n",
       "    <tr style=\"text-align: right;\">\n",
       "      <th></th>\n",
       "      <th>rideable_type</th>\n",
       "      <th>started_at</th>\n",
       "      <th>ended_at</th>\n",
       "      <th>start_station_name</th>\n",
       "      <th>end_station_name</th>\n",
       "      <th>member_casual</th>\n",
       "    </tr>\n",
       "  </thead>\n",
       "  <tbody>\n",
       "    <tr>\n",
       "      <th>0</th>\n",
       "      <td>electric_bike</td>\n",
       "      <td>2021-06-13 14:31:28</td>\n",
       "      <td>2021-06-13 14:34:11</td>\n",
       "      <td>NaN</td>\n",
       "      <td>NaN</td>\n",
       "      <td>member</td>\n",
       "    </tr>\n",
       "    <tr>\n",
       "      <th>1</th>\n",
       "      <td>electric_bike</td>\n",
       "      <td>2021-06-04 11:18:02</td>\n",
       "      <td>2021-06-04 11:24:19</td>\n",
       "      <td>NaN</td>\n",
       "      <td>NaN</td>\n",
       "      <td>member</td>\n",
       "    </tr>\n",
       "    <tr>\n",
       "      <th>2</th>\n",
       "      <td>electric_bike</td>\n",
       "      <td>2021-06-04 09:49:35</td>\n",
       "      <td>2021-06-04 09:55:34</td>\n",
       "      <td>NaN</td>\n",
       "      <td>NaN</td>\n",
       "      <td>member</td>\n",
       "    </tr>\n",
       "    <tr>\n",
       "      <th>3</th>\n",
       "      <td>electric_bike</td>\n",
       "      <td>2021-06-03 19:56:05</td>\n",
       "      <td>2021-06-03 20:21:55</td>\n",
       "      <td>NaN</td>\n",
       "      <td>NaN</td>\n",
       "      <td>member</td>\n",
       "    </tr>\n",
       "    <tr>\n",
       "      <th>4</th>\n",
       "      <td>electric_bike</td>\n",
       "      <td>2021-06-04 14:05:51</td>\n",
       "      <td>2021-06-04 14:09:59</td>\n",
       "      <td>NaN</td>\n",
       "      <td>NaN</td>\n",
       "      <td>member</td>\n",
       "    </tr>\n",
       "  </tbody>\n",
       "</table>\n",
       "</div>"
      ],
      "text/plain": [
       "   rideable_type           started_at             ended_at start_station_name  \\\n",
       "0  electric_bike  2021-06-13 14:31:28  2021-06-13 14:34:11                NaN   \n",
       "1  electric_bike  2021-06-04 11:18:02  2021-06-04 11:24:19                NaN   \n",
       "2  electric_bike  2021-06-04 09:49:35  2021-06-04 09:55:34                NaN   \n",
       "3  electric_bike  2021-06-03 19:56:05  2021-06-03 20:21:55                NaN   \n",
       "4  electric_bike  2021-06-04 14:05:51  2021-06-04 14:09:59                NaN   \n",
       "\n",
       "  end_station_name member_casual  \n",
       "0              NaN        member  \n",
       "1              NaN        member  \n",
       "2              NaN        member  \n",
       "3              NaN        member  \n",
       "4              NaN        member  "
      ]
     },
     "execution_count": 14,
     "metadata": {},
     "output_type": "execute_result"
    }
   ],
   "source": [
    "# dropping the unwanted columns \n",
    "\n",
    "df_1 = df[['rideable_type','started_at','ended_at','start_station_name','end_station_name','member_casual']].copy()\n",
    "df_1.head()"
   ]
  },
  {
   "cell_type": "code",
   "execution_count": 15,
   "id": "88c12b3c",
   "metadata": {},
   "outputs": [],
   "source": [
    "# changing column names \n",
    "\n",
    "df_1 = df_1.rename(columns={'rideable_type':'bike_type','member_casual':'customer_type'})"
   ]
  },
  {
   "cell_type": "code",
   "execution_count": 16,
   "id": "1a2a348c",
   "metadata": {},
   "outputs": [
    {
     "name": "stdout",
     "output_type": "stream",
     "text": [
      "<class 'pandas.core.frame.DataFrame'>\n",
      "Int64Index: 5860776 entries, 0 to 634857\n",
      "Data columns (total 6 columns):\n",
      " #   Column              Dtype         \n",
      "---  ------              -----         \n",
      " 0   bike_type           object        \n",
      " 1   started_at          datetime64[ns]\n",
      " 2   ended_at            datetime64[ns]\n",
      " 3   start_station_name  object        \n",
      " 4   end_station_name    object        \n",
      " 5   customer_type       object        \n",
      "dtypes: datetime64[ns](2), object(4)\n",
      "memory usage: 313.0+ MB\n"
     ]
    }
   ],
   "source": [
    "# changing the column type \n",
    "\n",
    "df_1['started_at'] = pd.to_datetime(df_1['started_at'])\n",
    "df_1['ended_at'] = pd.to_datetime(df_1['ended_at'])\n",
    "df_1.info()"
   ]
  },
  {
   "cell_type": "code",
   "execution_count": 17,
   "id": "e24d5fdb",
   "metadata": {},
   "outputs": [
    {
     "data": {
      "text/plain": [
       "bike_type             0\n",
       "started_at            0\n",
       "ended_at              0\n",
       "start_station_name    0\n",
       "end_station_name      0\n",
       "customer_type         0\n",
       "dtype: int64"
      ]
     },
     "execution_count": 17,
     "metadata": {},
     "output_type": "execute_result"
    }
   ],
   "source": [
    "# filling NaN station name with unknown\n",
    "\n",
    "df_1 = df_1.fillna('Unknown')\n",
    "\n",
    "# checking missing values \n",
    "\n",
    "df_1.isnull().sum()"
   ]
  },
  {
   "cell_type": "code",
   "execution_count": 18,
   "id": "af45b89d",
   "metadata": {},
   "outputs": [
    {
     "data": {
      "text/plain": [
       "bike_type                   3\n",
       "started_at            4896834\n",
       "ended_at              4893478\n",
       "start_station_name       1106\n",
       "end_station_name         1113\n",
       "customer_type               2\n",
       "dtype: int64"
      ]
     },
     "execution_count": 18,
     "metadata": {},
     "output_type": "execute_result"
    }
   ],
   "source": [
    "# checking the number of start_station_name and end_station_name unique values \n",
    "\n",
    "df_1.nunique()"
   ]
  },
  {
   "cell_type": "code",
   "execution_count": 19,
   "id": "c6199424",
   "metadata": {},
   "outputs": [
    {
     "name": "stdout",
     "output_type": "stream",
     "text": [
      "Min ride_length :  -58.03333333333333\n",
      "Max ride_length :  55944.15\n",
      "Avg ride_length :  20.68927221127968\n",
      "Median ride_length :  11.333333333333334\n"
     ]
    }
   ],
   "source": [
    "# increase column ride_length and find the max, min, mean, median\n",
    "\n",
    "df_1['ride_length'] =   (df_1['ended_at']- df_1['started_at']).astype('timedelta64[s]')/60\n",
    "\n",
    "print('Min ride_length : ', df_1['ride_length'].min())\n",
    "print('Max ride_length : ', df_1['ride_length'].max())\n",
    "print('Avg ride_length : ', df_1['ride_length'].mean())\n",
    "print('Median ride_length : ', df_1['ride_length'].median())\n"
   ]
  },
  {
   "cell_type": "code",
   "execution_count": 20,
   "id": "676b99f9",
   "metadata": {},
   "outputs": [],
   "source": [
    "# dropping the data with ride_length less than 0 \n",
    "\n",
    "df_1 = df_1[df_1['ride_length'] > 0 ]\n"
   ]
  },
  {
   "cell_type": "code",
   "execution_count": 21,
   "id": "ebc15244",
   "metadata": {},
   "outputs": [
    {
     "name": "stdout",
     "output_type": "stream",
     "text": [
      "data points greater than upper_bound : \n",
      " bike_type             429698\n",
      "started_at            429698\n",
      "ended_at              429698\n",
      "start_station_name    429698\n",
      "end_station_name      429698\n",
      "customer_type         429698\n",
      "ride_length           429698\n",
      "dtype: int64\n",
      "data points lower than lower_bound : \n",
      " bike_type             0\n",
      "started_at            0\n",
      "ended_at              0\n",
      "start_station_name    0\n",
      "end_station_name      0\n",
      "customer_type         0\n",
      "ride_length           0\n",
      "dtype: int64\n"
     ]
    }
   ],
   "source": [
    "# keep searching for outliers \n",
    "\n",
    "Q1 = df_1['ride_length'].quantile(0.25)\n",
    "Q3 = df_1['ride_length'].quantile(0.75)\n",
    "\n",
    "IQR = Q3-Q1\n",
    "upper_bound = Q3 + 1.5*IQR\n",
    "lower_bound = Q1 - 1.5*IQR\n",
    "\n",
    "print('data points greater than upper_bound : \\n' , df_1[(df_1['ride_length'] > (upper_bound))].count())\n",
    "\n",
    "print('data points lower than lower_bound : \\n' , df_1[(df_1['ride_length'] < (lower_bound))].count())\n",
    "            "
   ]
  },
  {
   "cell_type": "code",
   "execution_count": 22,
   "id": "8491037a",
   "metadata": {},
   "outputs": [
    {
     "data": {
      "text/html": [
       "<div>\n",
       "<style scoped>\n",
       "    .dataframe tbody tr th:only-of-type {\n",
       "        vertical-align: middle;\n",
       "    }\n",
       "\n",
       "    .dataframe tbody tr th {\n",
       "        vertical-align: top;\n",
       "    }\n",
       "\n",
       "    .dataframe thead th {\n",
       "        text-align: right;\n",
       "    }\n",
       "</style>\n",
       "<table border=\"1\" class=\"dataframe\">\n",
       "  <thead>\n",
       "    <tr style=\"text-align: right;\">\n",
       "      <th></th>\n",
       "      <th>bike_type</th>\n",
       "      <th>started_at</th>\n",
       "      <th>ended_at</th>\n",
       "      <th>start_station_name</th>\n",
       "      <th>end_station_name</th>\n",
       "      <th>customer_type</th>\n",
       "      <th>ride_length</th>\n",
       "    </tr>\n",
       "  </thead>\n",
       "  <tbody>\n",
       "    <tr>\n",
       "      <th>116066</th>\n",
       "      <td>docked_bike</td>\n",
       "      <td>2021-06-01 00:00:38</td>\n",
       "      <td>2021-06-01 00:41:34</td>\n",
       "      <td>Lake Shore Dr &amp; Monroe St</td>\n",
       "      <td>Streeter Dr &amp; Grand Ave</td>\n",
       "      <td>casual</td>\n",
       "      <td>40.933333</td>\n",
       "    </tr>\n",
       "    <tr>\n",
       "      <th>718898</th>\n",
       "      <td>electric_bike</td>\n",
       "      <td>2021-06-01 00:00:41</td>\n",
       "      <td>2021-06-01 00:20:21</td>\n",
       "      <td>Unknown</td>\n",
       "      <td>Unknown</td>\n",
       "      <td>member</td>\n",
       "      <td>19.666667</td>\n",
       "    </tr>\n",
       "    <tr>\n",
       "      <th>143797</th>\n",
       "      <td>electric_bike</td>\n",
       "      <td>2021-06-01 00:01:00</td>\n",
       "      <td>2021-06-01 00:08:19</td>\n",
       "      <td>Perry Ave &amp; 69th St</td>\n",
       "      <td>May St &amp; 69th St</td>\n",
       "      <td>casual</td>\n",
       "      <td>7.316667</td>\n",
       "    </tr>\n",
       "    <tr>\n",
       "      <th>407743</th>\n",
       "      <td>electric_bike</td>\n",
       "      <td>2021-06-01 00:02:12</td>\n",
       "      <td>2021-06-01 00:06:22</td>\n",
       "      <td>Unknown</td>\n",
       "      <td>Unknown</td>\n",
       "      <td>casual</td>\n",
       "      <td>4.166667</td>\n",
       "    </tr>\n",
       "    <tr>\n",
       "      <th>32112</th>\n",
       "      <td>electric_bike</td>\n",
       "      <td>2021-06-01 00:03:57</td>\n",
       "      <td>2021-06-01 00:44:44</td>\n",
       "      <td>Bradley Park</td>\n",
       "      <td>Stony Island Ave &amp; South Chicago Ave</td>\n",
       "      <td>casual</td>\n",
       "      <td>40.783333</td>\n",
       "    </tr>\n",
       "  </tbody>\n",
       "</table>\n",
       "</div>"
      ],
      "text/plain": [
       "            bike_type          started_at            ended_at  \\\n",
       "116066    docked_bike 2021-06-01 00:00:38 2021-06-01 00:41:34   \n",
       "718898  electric_bike 2021-06-01 00:00:41 2021-06-01 00:20:21   \n",
       "143797  electric_bike 2021-06-01 00:01:00 2021-06-01 00:08:19   \n",
       "407743  electric_bike 2021-06-01 00:02:12 2021-06-01 00:06:22   \n",
       "32112   electric_bike 2021-06-01 00:03:57 2021-06-01 00:44:44   \n",
       "\n",
       "               start_station_name                      end_station_name  \\\n",
       "116066  Lake Shore Dr & Monroe St               Streeter Dr & Grand Ave   \n",
       "718898                    Unknown                               Unknown   \n",
       "143797        Perry Ave & 69th St                      May St & 69th St   \n",
       "407743                    Unknown                               Unknown   \n",
       "32112                Bradley Park  Stony Island Ave & South Chicago Ave   \n",
       "\n",
       "       customer_type  ride_length  \n",
       "116066        casual    40.933333  \n",
       "718898        member    19.666667  \n",
       "143797        casual     7.316667  \n",
       "407743        casual     4.166667  \n",
       "32112         casual    40.783333  "
      ]
     },
     "execution_count": 22,
     "metadata": {},
     "output_type": "execute_result"
    }
   ],
   "source": [
    "# move outliers to a different dataframe \n",
    "\n",
    "outliers = df_1[df_1['ride_length'] > upper_bound].copy()\n",
    "\n",
    "df_1 = df_1[df_1['ride_length'] < upper_bound].sort_values(by='started_at')\n",
    "df_1.head()"
   ]
  },
  {
   "cell_type": "code",
   "execution_count": 23,
   "id": "57138a7f",
   "metadata": {},
   "outputs": [
    {
     "data": {
      "text/html": [
       "<div>\n",
       "<style scoped>\n",
       "    .dataframe tbody tr th:only-of-type {\n",
       "        vertical-align: middle;\n",
       "    }\n",
       "\n",
       "    .dataframe tbody tr th {\n",
       "        vertical-align: top;\n",
       "    }\n",
       "\n",
       "    .dataframe thead th {\n",
       "        text-align: right;\n",
       "    }\n",
       "</style>\n",
       "<table border=\"1\" class=\"dataframe\">\n",
       "  <thead>\n",
       "    <tr style=\"text-align: right;\">\n",
       "      <th></th>\n",
       "      <th>bike_type</th>\n",
       "      <th>started_at</th>\n",
       "      <th>ended_at</th>\n",
       "      <th>start_station_name</th>\n",
       "      <th>end_station_name</th>\n",
       "      <th>customer_type</th>\n",
       "      <th>ride_length</th>\n",
       "    </tr>\n",
       "  </thead>\n",
       "  <tbody>\n",
       "    <tr>\n",
       "      <th>0</th>\n",
       "      <td>docked_bike</td>\n",
       "      <td>2021-06-01 00:00:38</td>\n",
       "      <td>2021-06-01 00:41:34</td>\n",
       "      <td>Lake Shore Dr &amp; Monroe St</td>\n",
       "      <td>Streeter Dr &amp; Grand Ave</td>\n",
       "      <td>casual</td>\n",
       "      <td>40.933333</td>\n",
       "    </tr>\n",
       "    <tr>\n",
       "      <th>1</th>\n",
       "      <td>electric_bike</td>\n",
       "      <td>2021-06-01 00:00:41</td>\n",
       "      <td>2021-06-01 00:20:21</td>\n",
       "      <td>Unknown</td>\n",
       "      <td>Unknown</td>\n",
       "      <td>member</td>\n",
       "      <td>19.666667</td>\n",
       "    </tr>\n",
       "    <tr>\n",
       "      <th>2</th>\n",
       "      <td>electric_bike</td>\n",
       "      <td>2021-06-01 00:01:00</td>\n",
       "      <td>2021-06-01 00:08:19</td>\n",
       "      <td>Perry Ave &amp; 69th St</td>\n",
       "      <td>May St &amp; 69th St</td>\n",
       "      <td>casual</td>\n",
       "      <td>7.316667</td>\n",
       "    </tr>\n",
       "    <tr>\n",
       "      <th>3</th>\n",
       "      <td>electric_bike</td>\n",
       "      <td>2021-06-01 00:02:12</td>\n",
       "      <td>2021-06-01 00:06:22</td>\n",
       "      <td>Unknown</td>\n",
       "      <td>Unknown</td>\n",
       "      <td>casual</td>\n",
       "      <td>4.166667</td>\n",
       "    </tr>\n",
       "    <tr>\n",
       "      <th>4</th>\n",
       "      <td>electric_bike</td>\n",
       "      <td>2021-06-01 00:03:57</td>\n",
       "      <td>2021-06-01 00:44:44</td>\n",
       "      <td>Bradley Park</td>\n",
       "      <td>Stony Island Ave &amp; South Chicago Ave</td>\n",
       "      <td>casual</td>\n",
       "      <td>40.783333</td>\n",
       "    </tr>\n",
       "  </tbody>\n",
       "</table>\n",
       "</div>"
      ],
      "text/plain": [
       "       bike_type          started_at            ended_at  \\\n",
       "0    docked_bike 2021-06-01 00:00:38 2021-06-01 00:41:34   \n",
       "1  electric_bike 2021-06-01 00:00:41 2021-06-01 00:20:21   \n",
       "2  electric_bike 2021-06-01 00:01:00 2021-06-01 00:08:19   \n",
       "3  electric_bike 2021-06-01 00:02:12 2021-06-01 00:06:22   \n",
       "4  electric_bike 2021-06-01 00:03:57 2021-06-01 00:44:44   \n",
       "\n",
       "          start_station_name                      end_station_name  \\\n",
       "0  Lake Shore Dr & Monroe St               Streeter Dr & Grand Ave   \n",
       "1                    Unknown                               Unknown   \n",
       "2        Perry Ave & 69th St                      May St & 69th St   \n",
       "3                    Unknown                               Unknown   \n",
       "4               Bradley Park  Stony Island Ave & South Chicago Ave   \n",
       "\n",
       "  customer_type  ride_length  \n",
       "0        casual    40.933333  \n",
       "1        member    19.666667  \n",
       "2        casual     7.316667  \n",
       "3        casual     4.166667  \n",
       "4        casual    40.783333  "
      ]
     },
     "execution_count": 23,
     "metadata": {},
     "output_type": "execute_result"
    }
   ],
   "source": [
    "# reset indexes \n",
    "\n",
    "df_1 = df_1.reset_index(drop=True)\n",
    "df_1.head()"
   ]
  },
  {
   "cell_type": "code",
   "execution_count": 24,
   "id": "5b8151ba",
   "metadata": {},
   "outputs": [
    {
     "data": {
      "text/html": [
       "<div>\n",
       "<style scoped>\n",
       "    .dataframe tbody tr th:only-of-type {\n",
       "        vertical-align: middle;\n",
       "    }\n",
       "\n",
       "    .dataframe tbody tr th {\n",
       "        vertical-align: top;\n",
       "    }\n",
       "\n",
       "    .dataframe thead th {\n",
       "        text-align: right;\n",
       "    }\n",
       "</style>\n",
       "<table border=\"1\" class=\"dataframe\">\n",
       "  <thead>\n",
       "    <tr style=\"text-align: right;\">\n",
       "      <th></th>\n",
       "      <th>bike_type</th>\n",
       "      <th>started_at</th>\n",
       "      <th>ended_at</th>\n",
       "      <th>start_station_name</th>\n",
       "      <th>end_station_name</th>\n",
       "      <th>customer_type</th>\n",
       "      <th>ride_length</th>\n",
       "    </tr>\n",
       "  </thead>\n",
       "  <tbody>\n",
       "    <tr>\n",
       "      <th>0</th>\n",
       "      <td>docked_bike</td>\n",
       "      <td>2021-06-01 00:00:38</td>\n",
       "      <td>2021-06-01 00:41:34</td>\n",
       "      <td>Lake Shore Dr &amp; Monroe St</td>\n",
       "      <td>Streeter Dr &amp; Grand Ave</td>\n",
       "      <td>casual</td>\n",
       "      <td>40.933333</td>\n",
       "    </tr>\n",
       "    <tr>\n",
       "      <th>1</th>\n",
       "      <td>electric_bike</td>\n",
       "      <td>2021-06-01 00:00:41</td>\n",
       "      <td>2021-06-01 00:20:21</td>\n",
       "      <td>Unknown</td>\n",
       "      <td>Unknown</td>\n",
       "      <td>member</td>\n",
       "      <td>19.666667</td>\n",
       "    </tr>\n",
       "    <tr>\n",
       "      <th>2</th>\n",
       "      <td>electric_bike</td>\n",
       "      <td>2021-06-01 00:01:00</td>\n",
       "      <td>2021-06-01 00:08:19</td>\n",
       "      <td>Perry Ave &amp; 69th St</td>\n",
       "      <td>May St &amp; 69th St</td>\n",
       "      <td>casual</td>\n",
       "      <td>7.316667</td>\n",
       "    </tr>\n",
       "    <tr>\n",
       "      <th>3</th>\n",
       "      <td>electric_bike</td>\n",
       "      <td>2021-06-01 00:02:12</td>\n",
       "      <td>2021-06-01 00:06:22</td>\n",
       "      <td>Unknown</td>\n",
       "      <td>Unknown</td>\n",
       "      <td>casual</td>\n",
       "      <td>4.166667</td>\n",
       "    </tr>\n",
       "    <tr>\n",
       "      <th>4</th>\n",
       "      <td>electric_bike</td>\n",
       "      <td>2021-06-01 00:03:57</td>\n",
       "      <td>2021-06-01 00:44:44</td>\n",
       "      <td>Bradley Park</td>\n",
       "      <td>Stony Island Ave &amp; South Chicago Ave</td>\n",
       "      <td>casual</td>\n",
       "      <td>40.783333</td>\n",
       "    </tr>\n",
       "  </tbody>\n",
       "</table>\n",
       "</div>"
      ],
      "text/plain": [
       "       bike_type          started_at            ended_at  \\\n",
       "0    docked_bike 2021-06-01 00:00:38 2021-06-01 00:41:34   \n",
       "1  electric_bike 2021-06-01 00:00:41 2021-06-01 00:20:21   \n",
       "2  electric_bike 2021-06-01 00:01:00 2021-06-01 00:08:19   \n",
       "3  electric_bike 2021-06-01 00:02:12 2021-06-01 00:06:22   \n",
       "4  electric_bike 2021-06-01 00:03:57 2021-06-01 00:44:44   \n",
       "\n",
       "          start_station_name                      end_station_name  \\\n",
       "0  Lake Shore Dr & Monroe St               Streeter Dr & Grand Ave   \n",
       "1                    Unknown                               Unknown   \n",
       "2        Perry Ave & 69th St                      May St & 69th St   \n",
       "3                    Unknown                               Unknown   \n",
       "4               Bradley Park  Stony Island Ave & South Chicago Ave   \n",
       "\n",
       "  customer_type  ride_length  \n",
       "0        casual    40.933333  \n",
       "1        member    19.666667  \n",
       "2        casual     7.316667  \n",
       "3        casual     4.166667  \n",
       "4        casual    40.783333  "
      ]
     },
     "execution_count": 24,
     "metadata": {},
     "output_type": "execute_result"
    }
   ],
   "source": [
    "# find the ride length less than 1 min \n",
    "\n",
    "less_than_1 = df_1.loc[(df_1['start_station_name'] == df_1['end_station_name']) & (df_1['ride_length'] < 1)].copy()\n",
    "\n",
    "# drop those rows \n",
    "\n",
    "temp = less_than_1.index.to_list()\n",
    "df_1 = df_1.drop(temp)\n",
    "df_1.head()"
   ]
  },
  {
   "cell_type": "code",
   "execution_count": 25,
   "id": "bf65b69d",
   "metadata": {},
   "outputs": [
    {
     "name": "stdout",
     "output_type": "stream",
     "text": [
      "<class 'pandas.core.frame.DataFrame'>\n",
      "RangeIndex: 5345301 entries, 0 to 5345300\n",
      "Data columns (total 7 columns):\n",
      " #   Column              Dtype         \n",
      "---  ------              -----         \n",
      " 0   bike_type           object        \n",
      " 1   started_at          datetime64[ns]\n",
      " 2   ended_at            datetime64[ns]\n",
      " 3   start_station_name  object        \n",
      " 4   end_station_name    object        \n",
      " 5   customer_type       object        \n",
      " 6   ride_length         float64       \n",
      "dtypes: datetime64[ns](2), float64(1), object(4)\n",
      "memory usage: 285.5+ MB\n"
     ]
    }
   ],
   "source": [
    "# copy cleaned data to a new dataset \n",
    "\n",
    "df_cleaned = df_1.reset_index(drop=True).copy()\n",
    "df_cleaned.info()"
   ]
  },
  {
   "cell_type": "markdown",
   "id": "4246952e",
   "metadata": {},
   "source": [
    "# Start to analyze the dataset  "
   ]
  },
  {
   "cell_type": "code",
   "execution_count": 26,
   "id": "28227cb2",
   "metadata": {},
   "outputs": [
    {
     "data": {
      "image/png": "[encoded data removed]",
      "text/plain": [
       "<Figure size 720x288 with 2 Axes>"
      ]
     },
     "metadata": {
      "needs_background": "light"
     },
     "output_type": "display_data"
    }
   ],
   "source": [
    "# visualized the ride_length distribution on different customer_type\n",
    "\n",
    "fig, axs = plt.subplots(1,2, figsize= (10,4))\n",
    "sns.histplot(df_cleaned['ride_length'], kde = True, element='step',ax = axs[0])\n",
    "sns.boxplot(x= df_cleaned['ride_length'], ax = axs[1])\n",
    "axs[0].set_title('Histogram', fontsize = 16)\n",
    "axs[1].set_title('Boxplot', fontsize = 16)\n",
    "plt.suptitle('Ride Length Distribution', fontsize= 18 , fontweight='bold')\n",
    "plt.tight_layout()\n",
    "plt.show()"
   ]
  },
  {
   "cell_type": "markdown",
   "id": "16b49987",
   "metadata": {},
   "source": [
    "## Question 1 :What is the weekly average of ride length for casual riders and members?"
   ]
  },
  {
   "cell_type": "code",
   "execution_count": 27,
   "id": "89f5469b",
   "metadata": {
    "scrolled": false
   },
   "outputs": [
    {
     "data": {
      "text/html": [
       "<div>\n",
       "<style scoped>\n",
       "    .dataframe tbody tr th:only-of-type {\n",
       "        vertical-align: middle;\n",
       "    }\n",
       "\n",
       "    .dataframe tbody tr th {\n",
       "        vertical-align: top;\n",
       "    }\n",
       "\n",
       "    .dataframe thead th {\n",
       "        text-align: right;\n",
       "    }\n",
       "</style>\n",
       "<table border=\"1\" class=\"dataframe\">\n",
       "  <thead>\n",
       "    <tr style=\"text-align: right;\">\n",
       "      <th></th>\n",
       "      <th>started_at</th>\n",
       "      <th>customer_type</th>\n",
       "      <th>ride_length</th>\n",
       "    </tr>\n",
       "  </thead>\n",
       "  <tbody>\n",
       "    <tr>\n",
       "      <th>0</th>\n",
       "      <td>2021-06-06</td>\n",
       "      <td>casual</td>\n",
       "      <td>17.282201</td>\n",
       "    </tr>\n",
       "    <tr>\n",
       "      <th>1</th>\n",
       "      <td>2021-06-06</td>\n",
       "      <td>member</td>\n",
       "      <td>13.286568</td>\n",
       "    </tr>\n",
       "    <tr>\n",
       "      <th>2</th>\n",
       "      <td>2021-06-13</td>\n",
       "      <td>casual</td>\n",
       "      <td>16.945131</td>\n",
       "    </tr>\n",
       "    <tr>\n",
       "      <th>3</th>\n",
       "      <td>2021-06-13</td>\n",
       "      <td>member</td>\n",
       "      <td>13.163270</td>\n",
       "    </tr>\n",
       "    <tr>\n",
       "      <th>4</th>\n",
       "      <td>2021-06-20</td>\n",
       "      <td>casual</td>\n",
       "      <td>16.821534</td>\n",
       "    </tr>\n",
       "  </tbody>\n",
       "</table>\n",
       "</div>"
      ],
      "text/plain": [
       "  started_at customer_type  ride_length\n",
       "0 2021-06-06        casual    17.282201\n",
       "1 2021-06-06        member    13.286568\n",
       "2 2021-06-13        casual    16.945131\n",
       "3 2021-06-13        member    13.163270\n",
       "4 2021-06-20        casual    16.821534"
      ]
     },
     "execution_count": 27,
     "metadata": {},
     "output_type": "execute_result"
    }
   ],
   "source": [
    "# What is the weekly average of ride length for casual riders and members? \n",
    "# first we group the required column and period of time by started_at and find the mean \n",
    "# reset the index\n",
    "\n",
    "weekly_rides = df_cleaned.groupby([pd.Grouper(key = 'started_at', freq= '1W'), 'customer_type'])['ride_length'].mean()\n",
    "weekly_rides = weekly_rides.reset_index()\n",
    "weekly_rides.head()"
   ]
  },
  {
   "cell_type": "code",
   "execution_count": 34,
   "id": "76591d1d",
   "metadata": {},
   "outputs": [
    {
     "data": {
      "text/html": [
       "<div>\n",
       "<style scoped>\n",
       "    .dataframe tbody tr th:only-of-type {\n",
       "        vertical-align: middle;\n",
       "    }\n",
       "\n",
       "    .dataframe tbody tr th {\n",
       "        vertical-align: top;\n",
       "    }\n",
       "\n",
       "    .dataframe thead th {\n",
       "        text-align: right;\n",
       "    }\n",
       "</style>\n",
       "<table border=\"1\" class=\"dataframe\">\n",
       "  <thead>\n",
       "    <tr style=\"text-align: right;\">\n",
       "      <th></th>\n",
       "      <th>started_at</th>\n",
       "      <th>customer_type</th>\n",
       "      <th>avg_ride_length</th>\n",
       "    </tr>\n",
       "  </thead>\n",
       "  <tbody>\n",
       "    <tr>\n",
       "      <th>0</th>\n",
       "      <td>2021-06-06</td>\n",
       "      <td>casual</td>\n",
       "      <td>17.282201</td>\n",
       "    </tr>\n",
       "    <tr>\n",
       "      <th>1</th>\n",
       "      <td>2021-06-06</td>\n",
       "      <td>member</td>\n",
       "      <td>13.286568</td>\n",
       "    </tr>\n",
       "    <tr>\n",
       "      <th>2</th>\n",
       "      <td>2021-06-13</td>\n",
       "      <td>casual</td>\n",
       "      <td>16.945131</td>\n",
       "    </tr>\n",
       "    <tr>\n",
       "      <th>3</th>\n",
       "      <td>2021-06-13</td>\n",
       "      <td>member</td>\n",
       "      <td>13.163270</td>\n",
       "    </tr>\n",
       "    <tr>\n",
       "      <th>4</th>\n",
       "      <td>2021-06-20</td>\n",
       "      <td>casual</td>\n",
       "      <td>16.821534</td>\n",
       "    </tr>\n",
       "    <tr>\n",
       "      <th>...</th>\n",
       "      <td>...</td>\n",
       "      <td>...</td>\n",
       "      <td>...</td>\n",
       "    </tr>\n",
       "    <tr>\n",
       "      <th>101</th>\n",
       "      <td>2022-05-22</td>\n",
       "      <td>member</td>\n",
       "      <td>11.851801</td>\n",
       "    </tr>\n",
       "    <tr>\n",
       "      <th>102</th>\n",
       "      <td>2022-05-29</td>\n",
       "      <td>casual</td>\n",
       "      <td>15.692180</td>\n",
       "    </tr>\n",
       "    <tr>\n",
       "      <th>103</th>\n",
       "      <td>2022-05-29</td>\n",
       "      <td>member</td>\n",
       "      <td>11.888160</td>\n",
       "    </tr>\n",
       "    <tr>\n",
       "      <th>104</th>\n",
       "      <td>2022-06-05</td>\n",
       "      <td>casual</td>\n",
       "      <td>16.210271</td>\n",
       "    </tr>\n",
       "    <tr>\n",
       "      <th>105</th>\n",
       "      <td>2022-06-05</td>\n",
       "      <td>member</td>\n",
       "      <td>12.543169</td>\n",
       "    </tr>\n",
       "  </tbody>\n",
       "</table>\n",
       "<p>106 rows × 3 columns</p>\n",
       "</div>"
      ],
      "text/plain": [
       "    started_at customer_type  avg_ride_length\n",
       "0   2021-06-06        casual        17.282201\n",
       "1   2021-06-06        member        13.286568\n",
       "2   2021-06-13        casual        16.945131\n",
       "3   2021-06-13        member        13.163270\n",
       "4   2021-06-20        casual        16.821534\n",
       "..         ...           ...              ...\n",
       "101 2022-05-22        member        11.851801\n",
       "102 2022-05-29        casual        15.692180\n",
       "103 2022-05-29        member        11.888160\n",
       "104 2022-06-05        casual        16.210271\n",
       "105 2022-06-05        member        12.543169\n",
       "\n",
       "[106 rows x 3 columns]"
      ]
     },
     "execution_count": 34,
     "metadata": {},
     "output_type": "execute_result"
    }
   ],
   "source": [
    "# rename ride_length to avg_ride_length, since the columns have been changed\n",
    "weekly_rides.rename(columns={'ride_length':'avg_ride_length'})\n",
    "\n"
   ]
  },
  {
   "cell_type": "code",
   "execution_count": 29,
   "id": "b9988fb8",
   "metadata": {},
   "outputs": [
    {
     "data": {
      "text/plain": [
       "customer_type\n",
       "casual    14.638630\n",
       "member    11.139624\n",
       "Name: ride_length, dtype: float64"
      ]
     },
     "execution_count": 29,
     "metadata": {},
     "output_type": "execute_result"
    }
   ],
   "source": [
    "# group weekly_rides dataframe by customer_type and aggregate ride_length using mean()\n",
    "\n",
    "avg_weekly_rides = weekly_rides.groupby('customer_type')['ride_length'].mean()\n",
    "avg_weekly_rides"
   ]
  },
  {
   "cell_type": "code",
   "execution_count": 30,
   "id": "4a218d24",
   "metadata": {},
   "outputs": [
    {
     "name": "stderr",
     "output_type": "stream",
     "text": [
      "C:\\Users\\tony3\\AppData\\Local\\Temp/ipykernel_9384/85858208.py:9: UserWarning: Matplotlib is currently using module://matplotlib_inline.backend_inline, which is a non-GUI backend, so cannot show the figure.\n",
      "  fig.show()\n"
     ]
    },
    {
     "data": {
      "image/png": "[encoded data removed]",
      "text/plain": [
       "<Figure size 432x288 with 1 Axes>"
      ]
     },
     "metadata": {
      "needs_background": "light"
     },
     "output_type": "display_data"
    }
   ],
   "source": [
    "# visualize dataset \n",
    "\n",
    "sns.set_palette('Paired')\n",
    "fig, ax = plt.subplots()\n",
    "sns.barplot(x= avg_weekly_rides.index, y= avg_weekly_rides)\n",
    "ax.set_title('Weekly average ride length by customer types')\n",
    "ax.set_xlabel('Customer type')\n",
    "ax.set_ylabel('Average ride length (mins)')\n",
    "fig.show()"
   ]
  },
  {
   "cell_type": "markdown",
   "id": "dc0929f8",
   "metadata": {},
   "source": [
    "## Question 2 :What is the proportion of different bike service being used by docked_bike, electric_bike,classic_bike for casual riders and members? "
   ]
  },
  {
   "cell_type": "code",
   "execution_count": 36,
   "id": "1e6c2a4d",
   "metadata": {},
   "outputs": [
    {
     "ename": "NameError",
     "evalue": "name 'casual' is not defined",
     "output_type": "error",
     "traceback": [
      "\u001b[1;31m---------------------------------------------------------------------------\u001b[0m",
      "\u001b[1;31mNameError\u001b[0m                                 Traceback (most recent call last)",
      "\u001b[1;32m~\\AppData\\Local\\Temp/ipykernel_9384/2145147430.py\u001b[0m in \u001b[0;36m<module>\u001b[1;34m\u001b[0m\n\u001b[1;32m----> 1\u001b[1;33m \u001b[0mall_casual\u001b[0m \u001b[1;33m=\u001b[0m \u001b[0mdf_cleaned\u001b[0m\u001b[1;33m[\u001b[0m\u001b[0mcasual\u001b[0m\u001b[1;33m]\u001b[0m\u001b[1;33m[\u001b[0m\u001b[1;34m'bike_type'\u001b[0m\u001b[1;33m]\u001b[0m\u001b[1;33m.\u001b[0m\u001b[0mvalue_counts\u001b[0m\u001b[1;33m(\u001b[0m\u001b[1;33m)\u001b[0m\u001b[1;33m.\u001b[0m\u001b[0msum\u001b[0m\u001b[1;33m(\u001b[0m\u001b[1;33m)\u001b[0m\u001b[1;33m\u001b[0m\u001b[1;33m\u001b[0m\u001b[0m\n\u001b[0m\u001b[0;32m      2\u001b[0m \u001b[0mall_member\u001b[0m \u001b[1;33m=\u001b[0m \u001b[0mdf_cleaned\u001b[0m\u001b[1;33m[\u001b[0m\u001b[0mmember\u001b[0m\u001b[1;33m]\u001b[0m\u001b[1;33m[\u001b[0m\u001b[1;34m'bike_type'\u001b[0m\u001b[1;33m]\u001b[0m\u001b[1;33m.\u001b[0m\u001b[0mvalue_counts\u001b[0m\u001b[1;33m(\u001b[0m\u001b[1;33m)\u001b[0m\u001b[1;33m.\u001b[0m\u001b[0msum\u001b[0m\u001b[1;33m(\u001b[0m\u001b[1;33m)\u001b[0m\u001b[1;33m\u001b[0m\u001b[1;33m\u001b[0m\u001b[0m\n\u001b[0;32m      3\u001b[0m \u001b[1;33m\u001b[0m\u001b[0m\n\u001b[0;32m      4\u001b[0m \u001b[0mcasual\u001b[0m \u001b[1;33m=\u001b[0m \u001b[0mdf_cleaned\u001b[0m\u001b[1;33m[\u001b[0m\u001b[1;34m'customer_type'\u001b[0m\u001b[1;33m]\u001b[0m \u001b[1;33m==\u001b[0m \u001b[1;34m'casual'\u001b[0m\u001b[1;33m\u001b[0m\u001b[1;33m\u001b[0m\u001b[0m\n\u001b[0;32m      5\u001b[0m \u001b[0mcasual_prop\u001b[0m \u001b[1;33m=\u001b[0m \u001b[0mdf_cleaned\u001b[0m\u001b[1;33m[\u001b[0m\u001b[0mcasual\u001b[0m\u001b[1;33m]\u001b[0m\u001b[1;33m[\u001b[0m\u001b[1;34m'bike_type'\u001b[0m\u001b[1;33m]\u001b[0m\u001b[1;33m.\u001b[0m\u001b[0mvalue_counts\u001b[0m\u001b[1;33m(\u001b[0m\u001b[1;33m)\u001b[0m \u001b[1;33m/\u001b[0m \u001b[0mall_casual\u001b[0m\u001b[1;33m\u001b[0m\u001b[1;33m\u001b[0m\u001b[0m\n",
      "\u001b[1;31mNameError\u001b[0m: name 'casual' is not defined"
     ]
    }
   ],
   "source": [
    "all_casual = df_cleaned[casual]['bike_type'].value_counts().sum()\n",
    "all_member = df_cleaned[member]['bike_type'].value_counts().sum()\n",
    "\n",
    "casual = df_cleaned['customer_type'] == 'casual'\n",
    "casual_prop = df_cleaned[casual]['bike_type'].value_counts() / all_casual\n",
    "print(\"proportion of bike service being used for casual user :\\n\" , casual_prop)\n",
    "\n",
    "member = df_cleaned['customer_type'] == 'member'\n",
    "member_prop = df_cleaned[member]['bike_type'].value_counts() / all_member\n",
    "print(\"proportion of bike service being used for member user :\\n\" , member_prop)\n"
   ]
  },
  {
   "cell_type": "code",
   "execution_count": 35,
   "id": "f2db7f94",
   "metadata": {},
   "outputs": [
    {
     "ename": "NameError",
     "evalue": "name 'casual_prop' is not defined",
     "output_type": "error",
     "traceback": [
      "\u001b[1;31m---------------------------------------------------------------------------\u001b[0m",
      "\u001b[1;31mNameError\u001b[0m                                 Traceback (most recent call last)",
      "\u001b[1;32m~\\AppData\\Local\\Temp/ipykernel_9384/3457974529.py\u001b[0m in \u001b[0;36m<module>\u001b[1;34m\u001b[0m\n\u001b[0;32m      3\u001b[0m \u001b[0msns\u001b[0m\u001b[1;33m.\u001b[0m\u001b[0mset_palette\u001b[0m\u001b[1;33m(\u001b[0m\u001b[1;34m'flare'\u001b[0m\u001b[1;33m)\u001b[0m\u001b[1;33m\u001b[0m\u001b[1;33m\u001b[0m\u001b[0m\n\u001b[0;32m      4\u001b[0m \u001b[0mfig\u001b[0m\u001b[1;33m,\u001b[0m \u001b[0max\u001b[0m \u001b[1;33m=\u001b[0m \u001b[0mplt\u001b[0m\u001b[1;33m.\u001b[0m\u001b[0msubplots\u001b[0m\u001b[1;33m(\u001b[0m\u001b[1;33m)\u001b[0m\u001b[1;33m\u001b[0m\u001b[1;33m\u001b[0m\u001b[0m\n\u001b[1;32m----> 5\u001b[1;33m \u001b[0msns\u001b[0m\u001b[1;33m.\u001b[0m\u001b[0mbarplot\u001b[0m\u001b[1;33m(\u001b[0m\u001b[0mx\u001b[0m\u001b[1;33m=\u001b[0m \u001b[0mcasual_prop\u001b[0m\u001b[1;33m.\u001b[0m\u001b[0mindex\u001b[0m\u001b[1;33m,\u001b[0m \u001b[0my\u001b[0m\u001b[1;33m=\u001b[0m \u001b[0mcasual_prop\u001b[0m\u001b[1;33m)\u001b[0m\u001b[1;33m\u001b[0m\u001b[1;33m\u001b[0m\u001b[0m\n\u001b[0m\u001b[0;32m      6\u001b[0m \u001b[0max\u001b[0m\u001b[1;33m.\u001b[0m\u001b[0mset_title\u001b[0m\u001b[1;33m(\u001b[0m\u001b[1;34m'Casual user'\u001b[0m\u001b[1;33m)\u001b[0m\u001b[1;33m\u001b[0m\u001b[1;33m\u001b[0m\u001b[0m\n\u001b[0;32m      7\u001b[0m \u001b[0max\u001b[0m\u001b[1;33m.\u001b[0m\u001b[0mset_xlabel\u001b[0m\u001b[1;33m(\u001b[0m\u001b[1;34m'Customer type'\u001b[0m\u001b[1;33m)\u001b[0m\u001b[1;33m\u001b[0m\u001b[1;33m\u001b[0m\u001b[0m\n",
      "\u001b[1;31mNameError\u001b[0m: name 'casual_prop' is not defined"
     ]
    },
    {
     "data": {
      "image/png": "[encoded data removed]",
      "text/plain": [
       "<Figure size 432x288 with 1 Axes>"
      ]
     },
     "metadata": {
      "needs_background": "light"
     },
     "output_type": "display_data"
    }
   ],
   "source": [
    "# visualize the proportion of different bike service being used\n",
    "# barplot for casual user \n",
    "sns.set_palette('flare')\n",
    "fig, ax = plt.subplots()\n",
    "sns.barplot(x= casual_prop.index, y= casual_prop)\n",
    "ax.set_title('Casual user')\n",
    "ax.set_xlabel('Customer type')\n",
    "ax.set_ylabel('Proportion of bike service being used')\n",
    "\n",
    "# barplot for member user\n",
    "sns.set_palette('flare')\n",
    "fig, ax = plt.subplots()\n",
    "sns.barplot(x= member_prop.index, y= member_prop)\n",
    "ax.set_title('Member user')\n",
    "ax.set_xlabel('Customer type')\n",
    "ax.set_ylabel('Proportion of bike service being used')\n",
    "fig.show()"
   ]
  },
  {
   "cell_type": "markdown",
   "id": "86bb62a5",
   "metadata": {},
   "source": [
    "## Question 3 :Is there a correlation between seasons and number of riders? "
   ]
  },
  {
   "cell_type": "code",
   "execution_count": null,
   "id": "ff19c768",
   "metadata": {},
   "outputs": [],
   "source": [
    "# group data daily by customer_type\n",
    "daily_rides_count = df_cleaned.groupby([pd.Grouper(key = 'started_at', freq= '1D'), 'customer_type'])['ride_length'].count().reset_index()\n",
    "\n",
    "# rename 'ride_length' column name\n",
    "daily_rides_count = daily_rides_count.rename(columns={'ride_length':'daily_num_rides'})\n",
    "\n",
    "# define function to detect season \n",
    "\n",
    "def season_recognition(month):\n",
    "    if month == 1 or month == 2 or month == 12:\n",
    "        season = 'Winter'\n",
    "    elif month == 3 or month == 4 or month == 5:\n",
    "        season = 'Spring'\n",
    "    elif month == 6 or month == 7 or month == 8:\n",
    "        season = 'Summer'\n",
    "    elif month == 9 or month == 10 or month == 11:\n",
    "        season = 'Autumn'\n",
    "    return season \n",
    "\n",
    "# add columns\n",
    "daily_rides_count['month'] = daily_rides_count['started_at'].dt.month\n",
    "\n",
    "season_list = []\n",
    "for month in daily_rides_count['month']:\n",
    "    season_list.append(season_recognition(month))\n",
    "\n",
    "daily_rides_count['season'] = season_list\n",
    "\n",
    "\n"
   ]
  },
  {
   "cell_type": "code",
   "execution_count": null,
   "id": "d104b513",
   "metadata": {},
   "outputs": [],
   "source": [
    "# add season representation 1 = winter 2 = spring 3 = summer 4 = autumn\n",
    "\n",
    "daily_rides_count['season_rep'] = daily_rides_count['started_at'].dt.month%12//3+1\n",
    "daily_rides_count.head()"
   ]
  },
  {
   "cell_type": "code",
   "execution_count": null,
   "id": "fc76cc1f",
   "metadata": {},
   "outputs": [],
   "source": [
    "# visualize data \n",
    "\n",
    "fig2, ax2 = plt.subplots()\n",
    "fig2.set_size_inches(7, 5)\n",
    "sns.scatterplot(x= 'started_at', y= 'daily_num_rides', data=daily_rides_count, hue='season', palette='flare')\n",
    "ax2.set_title('daily number of rides')\n",
    "ax2.set_xlabel('date')\n",
    "ax2.set_ylabel('')\n",
    "ax2.legend(frameon= False)\n",
    "fig2.show()"
   ]
  },
  {
   "cell_type": "code",
   "execution_count": null,
   "id": "55a50d3d",
   "metadata": {},
   "outputs": [],
   "source": [
    "# find correlation between seasons and number of rides \n",
    "\n",
    "cor = daily_rides_count['daily_num_rides'].corr(daily_rides_count['season_rep'])\n",
    "print(' correlation between daily number of rides and seasons : ' , round(cor,3))\n"
   ]
  },
  {
   "cell_type": "markdown",
   "id": "83c8b1ff",
   "metadata": {},
   "source": [
    "## Question 4 :Is there a correlation between the seasons and ride length?"
   ]
  },
  {
   "cell_type": "code",
   "execution_count": null,
   "id": "1691eaec",
   "metadata": {},
   "outputs": [],
   "source": [
    "# group the data by days and ride_length\n",
    "daily_ride_length = df_cleaned.groupby([pd.Grouper(key = 'started_at', freq= '1D'), 'customer_type'])['ride_length'].mean().reset_index()\n",
    "# rename the column \n",
    "daily_ride_length = daily_ride_length.rename(columns={'ride_length': 'avg_daily_ride_length'})\n",
    "\n",
    "# add columns\n",
    "daily_ride_length['month'] = daily_ride_length['started_at'].dt.month\n",
    "\n",
    "season_list = []\n",
    "for month in daily_ride_length['month']:\n",
    "    season_list.append(season_recognition(month))\n",
    "\n",
    "daily_ride_length['season'] = season_list\n",
    "\n",
    "# add season representation 1 = winter 2 = spring 3 = summer 4 = autumn\n",
    "\n",
    "daily_ride_length['season_rep'] = daily_ride_length['started_at'].dt.month%12//3+1\n",
    "daily_ride_length.head()\n"
   ]
  },
  {
   "cell_type": "code",
   "execution_count": null,
   "id": "c471d0f2",
   "metadata": {},
   "outputs": [],
   "source": [
    "# visualize data \n",
    "fig3, ax3 = plt.subplots()\n",
    "fig3.set_size_inches(7, 5)\n",
    "sns.scatterplot(x= 'started_at', y= 'avg_daily_ride_length', data=daily_ride_length, hue='season', palette='flare')\n",
    "ax3.set_title('average daily ride length')\n",
    "ax3.set_xlabel('date')\n",
    "ax3.set_ylabel('')\n",
    "ax3.legend(frameon= False)\n",
    "fig3.show()\n"
   ]
  },
  {
   "cell_type": "code",
   "execution_count": null,
   "id": "975096bb",
   "metadata": {},
   "outputs": [],
   "source": [
    "# find correlation between seasons and daily_ride_length\n",
    "\n",
    "cor = daily_ride_length['avg_daily_ride_length'].corr(daily_rides_count['season_rep'])\n",
    "print(' correlation between daily ride length and seasons : ' , round(cor,3))\n",
    "\n"
   ]
  },
  {
   "cell_type": "markdown",
   "id": "a6f535f5",
   "metadata": {},
   "source": [
    "## Question 5:What is the average number of rides on each name of the day of the week?"
   ]
  },
  {
   "cell_type": "code",
   "execution_count": null,
   "id": "4d7deb8e",
   "metadata": {},
   "outputs": [],
   "source": [
    "# create a new column with the day of the week from Mon to Sun\n",
    "\n",
    "daily_rides_count['day_of_week'] = daily_rides_count['started_at'].dt.day_name()\n",
    "daily_rides_count['day'] = daily_rides_count['started_at'].dt.dayofweek.astype(int)\n",
    "\n",
    "daily_rides_count.head()"
   ]
  },
  {
   "cell_type": "code",
   "execution_count": null,
   "id": "d9188f1f",
   "metadata": {},
   "outputs": [],
   "source": [
    "# group data by season, day of week, day\n",
    "\n",
    "day_rides = daily_rides_count.groupby(['season','day_of_week', 'day'])['daily_num_rides'].mean().reset_index() \n",
    "\n",
    "day_rides = day_rides.sort_values(by='day')\n",
    "\n",
    "day_rides.head()"
   ]
  },
  {
   "cell_type": "code",
   "execution_count": null,
   "id": "fc3ca3a0",
   "metadata": {},
   "outputs": [],
   "source": [
    "# visualize data \n",
    "\n",
    "fig4, ax4 = plt.subplots()\n",
    "fig4.set_size_inches(7, 5)\n",
    "sns.lineplot(x= 'day_of_week', y= 'daily_num_rides', data= day_rides, hue='season', palette='flare')\n",
    "ax4.set_title('average weekly number of rides')\n",
    "ax4.set_xlabel('week of day')\n",
    "ax4.set_ylabel('')\n",
    "ax4.legend(frameon= False)\n",
    "fig4.show()\n"
   ]
  },
  {
   "cell_type": "markdown",
   "id": "d40c4784",
   "metadata": {},
   "source": [
    "## Question 6:What is the average ride length on each name of the day of the week?"
   ]
  },
  {
   "cell_type": "code",
   "execution_count": null,
   "id": "45056b3d",
   "metadata": {},
   "outputs": [],
   "source": [
    "# create a new column with weeks \n",
    "\n",
    "daily_ride_length['day_of_week'] = daily_ride_length['started_at'].dt.day_name()\n",
    "daily_ride_length['day'] = daily_ride_length['started_at'].dt.dayofweek.astype(int)\n",
    "\n",
    "daily_ride_length.head()"
   ]
  },
  {
   "cell_type": "code",
   "execution_count": null,
   "id": "ad0e181c",
   "metadata": {},
   "outputs": [],
   "source": [
    "# group data by season, day of week, day\n",
    "\n",
    "day_ride_length = daily_ride_length.groupby(['season','day_of_week','day'])['avg_daily_ride_length'].mean().reset_index()\n",
    "\n",
    "day_ride_length = day_ride_length.sort_values(by='day')\n",
    "day_ride_length.head()"
   ]
  },
  {
   "cell_type": "code",
   "execution_count": null,
   "id": "611732a4",
   "metadata": {},
   "outputs": [],
   "source": [
    "# visualize data\n",
    "\n",
    "fig5, ax5 = plt.subplots()\n",
    "fig5.set_size_inches(7, 5)\n",
    "sns.lineplot(x= 'day_of_week', y= 'avg_daily_ride_length', data= day_ride_length, hue='season', palette='pastel')\n",
    "ax5.set_title('average weekday ride length')\n",
    "ax5.set_xlabel('week of day')\n",
    "ax5.set_ylabel('')\n",
    "ax5.legend(frameon= False)\n",
    "fig5.show()"
   ]
  },
  {
   "cell_type": "markdown",
   "id": "bcf8608e",
   "metadata": {},
   "source": [
    "## Question 7:Which stations do casual riders often visit?"
   ]
  },
  {
   "cell_type": "code",
   "execution_count": null,
   "id": "0983b1a2",
   "metadata": {},
   "outputs": [],
   "source": [
    "# group data by start_station_name\n",
    "\n",
    "start_station = df_cleaned.groupby(['start_station_name','customer_type'])['ride_length'].count().reset_index()\n",
    "start_station = start_station.rename(columns={'ride_length':'number_of_visits'})\n",
    "\n",
    "start_station = start_station[(start_station['customer_type'] == 'casual') & (start_station['start_station_name'] != 'Unknown' )].sort_values(by='number_of_visits', ascending=False) \n",
    "\n",
    "start_station = start_station.head()\n",
    "\n",
    "\n",
    "\n"
   ]
  },
  {
   "cell_type": "code",
   "execution_count": null,
   "id": "57f851b5",
   "metadata": {},
   "outputs": [],
   "source": [
    "# group data by the end_station_name\n",
    "\n",
    "end_station = df_cleaned.groupby(['end_station_name','customer_type'])['ride_length'].count().reset_index()\n",
    "end_station = end_station.rename(columns={'ride_length':'number_of_visits'})\n",
    "\n",
    "end_station = end_station[(end_station['customer_type'] == 'casual') & (end_station['end_station_name'] != 'Unknown' )].sort_values(by='number_of_visits', ascending=False) \n",
    "\n",
    "end_station = end_station.head()"
   ]
  },
  {
   "cell_type": "markdown",
   "id": "90dcae0f",
   "metadata": {},
   "source": [
    "# Conclusion\n",
    "\n",
    "According to our findings from the 7 questiones we had analysed, we demonstrate the results as follows,\n",
    "\n",
    "What is the weekly average of ride length for casual riders and members?\n",
    "<br>Casual riders have longer weekly ride length with an average of 14.64 minutes, on the other hand, member riders have an average of 11.14 minutes.  \n",
    "***\n",
    "What is the proportion of different bike service being used by docked_bike, electric_bike,classic_bike for casual riders and members?\n",
    "<br>For casual riders the percentage of bike services are 0.48/0.43/0.9 (follow the order by classic_bike/electric_bike/docked_bike)\n",
    "***\n",
    "Is there a correlation between seasons and number of riders?\n",
    "<br>There is a strong correlation (0.58) between seasons and number of riders.\n",
    "***\n",
    "Is there a correlation between the seasons and ride length?\n",
    "<br>There is a weak correlation (0.28) between seasons and ride length\n",
    "***\n",
    "What is the average number of rides on each name of the day of the week?\n",
    "<br>In spring, summer, and autumn, the number of rides gradually increases from Friday and peak on Saturday, on the other hand, in Winter, the number of rides remains steady throughout the weekday but drops on weekend.\n",
    "***\n",
    "What is the average ride length on each name of the day of the week?\n",
    "<br>The ride length gradually increases from Thursday and reachs peak on Sunday in four seasons. \n",
    "***\n",
    "Which stations do casual riders often visit?\n",
    "<br>Recreational stations are the most popular stops for both start and end stations.\n",
    "\n",
    "\n"
   ]
  },
  {
   "cell_type": "markdown",
   "id": "1a473a06",
   "metadata": {},
   "source": [
    "# Recommendation"
   ]
  },
  {
   "cell_type": "markdown",
   "id": "7cfd1549",
   "metadata": {},
   "source": [
    "To place the discount advertising mostly on the recreational stations by which operates with classic bikes and electronic bikes.  \n",
    "***\n",
    "To offer seasonal discounts for new members, for example, summer special offer. \n",
    "***\n",
    "To host the promotional compaigns mostly on weekend, for example, sending the marketing information with notification by apps. \n",
    "***\n",
    "To offer sales promotion with cooperated shops nearby popular recreational stations to potential customers applying for new members in particular period of time. \n"
   ]
  },
  {
   "cell_type": "code",
   "execution_count": null,
   "id": "bc32bb3b",
   "metadata": {},
   "outputs": [],
   "source": []
  }
 ],
 "metadata": {
  "kernelspec": {
   "display_name": "Python 3 (ipykernel)",
   "language": "python",
   "name": "python3"
  },
  "language_info": {
   "codemirror_mode": {
    "name": "ipython",
    "version": 3
   },
   "file_extension": ".py",
   "mimetype": "text/x-python",
   "name": "python",
   "nbconvert_exporter": "python",
   "pygments_lexer": "ipython3",
   "version": "3.9.7"
  }
 },
 "nbformat": 4,
 "nbformat_minor": 5
}
